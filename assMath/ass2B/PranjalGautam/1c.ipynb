{
 "cells": [
  {
   "cell_type": "code",
   "execution_count": 202,
   "metadata": {},
   "outputs": [],
   "source": [
    "import numpy as np"
   ]
  },
  {
   "cell_type": "code",
   "execution_count": 251,
   "metadata": {},
   "outputs": [],
   "source": [
    "list2=np.random.exponential(20,100)"
   ]
  },
  {
   "cell_type": "code",
   "execution_count": 252,
   "metadata": {},
   "outputs": [],
   "source": [
    "list1=np.random.normal(0,0.5,100)"
   ]
  },
  {
   "cell_type": "code",
   "execution_count": 253,
   "metadata": {},
   "outputs": [
    {
     "data": {
      "text/plain": [
       "array([  0.20097096,   0.29380917,   0.42208673,   0.50330906,\n",
       "         0.58605827,   1.01433163,   1.03687282,   1.45012679,\n",
       "         1.489632  ,   1.50343769,   1.57183021,   1.78141019,\n",
       "         1.84452246,   2.20307731,   2.47892885,   2.48303285,\n",
       "         3.45806008,   3.52369757,   3.53063622,   3.73271148,\n",
       "         3.9378226 ,   3.95277997,   4.37869673,   4.48171306,\n",
       "         4.57709463,   4.67013779,   4.89968072,   5.0740243 ,\n",
       "         5.1966158 ,   5.39026346,   5.56463385,   5.64993672,\n",
       "         5.67226571,   5.93856389,   6.04360903,   6.0446607 ,\n",
       "         6.09429239,   6.38855151,   6.59076506,   6.89020253,\n",
       "         6.92601454,   7.26947412,   7.76668619,   8.17170186,\n",
       "         9.40103136,   9.83921911,   9.91542485,  11.07820617,\n",
       "        11.92446077,  12.09453463,  13.21399008,  13.34923987,\n",
       "        13.47944   ,  13.73417214,  13.94100349,  14.76983044,\n",
       "        14.8518653 ,  15.69223516,  15.71865179,  15.81320012,\n",
       "        16.40808716,  16.46607066,  16.9486713 ,  17.77177218,\n",
       "        19.76204973,  21.48685101,  22.88595767,  23.19084394,\n",
       "        25.70827634,  27.87438366,  28.03306737,  28.29034612,\n",
       "        29.38048983,  29.59505119,  30.17593366,  30.53441553,\n",
       "        32.19619296,  32.42531397,  34.49184201,  35.14612547,\n",
       "        35.27714111,  35.32561214,  39.73550491,  39.91953575,\n",
       "        41.83554521,  46.34262088,  47.41981261,  49.571691  ,\n",
       "        57.50752158,  58.52751718,  58.78709971,  59.61796774,\n",
       "        61.56897785,  68.32680136,  71.36557733,  78.64237718,\n",
       "        98.04183502, 103.77004569, 115.61532403, 116.24424094])"
      ]
     },
     "execution_count": 253,
     "metadata": {},
     "output_type": "execute_result"
    }
   ],
   "source": [
    "list1+=list2\n",
    "list1.sort()\n",
    "# list1 is our final database where x follows some exponential distribution E(theta)\n",
    "# we will estimate theta using gradient descent\n",
    "list1"
   ]
  },
  {
   "cell_type": "code",
   "execution_count": 254,
   "metadata": {},
   "outputs": [],
   "source": [
    "# y=(1/b)e^(-x/b), take 1/b as w,\n",
    "#y=prod(we^(-wxi))\n",
    "#log(y)=sum(log(w)-wxi)\n",
    "#dlog(y)/dw=n/w-sum(xi)\n",
    "#we use this as the loss function for gradient descent\n",
    "#Now we define the function\n",
    "def gradient_descent(x,w,L):\n",
    "    grad_w=-len(x)/w\n",
    "    for i in x:\n",
    "        grad_w+=i\n",
    "    if(grad_w<0):\n",
    "        L*=10\n",
    "    return max(w-grad_w*L,0.0001)"
   ]
  },
  {
   "cell_type": "code",
   "execution_count": 255,
   "metadata": {},
   "outputs": [],
   "source": [
    "w=1 #initial value\n",
    "L=0.00001 #learning rate\n",
    "epochs=100000"
   ]
  },
  {
   "cell_type": "code",
   "execution_count": 256,
   "metadata": {},
   "outputs": [],
   "source": [
    "for i in range(epochs):\n",
    "    w=gradient_descent(list1,w,L)"
   ]
  },
  {
   "cell_type": "code",
   "execution_count": 257,
   "metadata": {},
   "outputs": [
    {
     "data": {
      "text/plain": [
       "0.045793632194344173"
      ]
     },
     "execution_count": 257,
     "metadata": {},
     "output_type": "execute_result"
    }
   ],
   "source": [
    "w"
   ]
  },
  {
   "cell_type": "code",
   "execution_count": 246,
   "metadata": {},
   "outputs": [],
   "source": [
    "#here is a list of theta and w(predicted value of 1/theta)\n",
    "#theta,w\n",
    "#10,0.09462341857288536\n",
    "#0.1,9.130099007007797\n",
    "#0.2,4.922704924280886\n",
    "#5,0.19044194086134064\n",
    "#for the final test using a high theta and some noise\n",
    "#20, 0.045793632194344173"
   ]
  }
 ],
 "metadata": {
  "kernelspec": {
   "display_name": "Python 3",
   "language": "python",
   "name": "python3"
  },
  "language_info": {
   "codemirror_mode": {
    "name": "ipython",
    "version": 3
   },
   "file_extension": ".py",
   "mimetype": "text/x-python",
   "name": "python",
   "nbconvert_exporter": "python",
   "pygments_lexer": "ipython3",
   "version": "3.11.1"
  },
  "orig_nbformat": 4
 },
 "nbformat": 4,
 "nbformat_minor": 2
}
